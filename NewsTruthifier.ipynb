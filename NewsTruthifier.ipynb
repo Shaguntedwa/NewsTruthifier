{
  "nbformat": 4,
  "nbformat_minor": 0,
  "metadata": {
    "colab": {
      "provenance": []
    },
    "kernelspec": {
      "name": "python3",
      "display_name": "Python 3"
    },
    "language_info": {
      "name": "python"
    }
  },
  "cells": [
    {
      "cell_type": "code",
      "execution_count": 4,
      "metadata": {
        "colab": {
          "base_uri": "https://localhost:8080/"
        },
        "id": "cnozyD94GMpV",
        "outputId": "7c425278-40e0-4501-ec42-f1e16635489c"
      },
      "outputs": [
        {
          "output_type": "stream",
          "name": "stdout",
          "text": [
            "      id                                              title  \\\n",
            "0   8476                       You Can Smell Hillary’s Fear   \n",
            "1  10294  Watch The Exact Moment Paul Ryan Committed Pol...   \n",
            "2   3608        Kerry to go to Paris in gesture of sympathy   \n",
            "3  10142  Bernie supporters on Twitter erupt in anger ag...   \n",
            "4    875   The Battle of New York: Why This Primary Matters   \n",
            "\n",
            "                                                text label  \n",
            "0  Daniel Greenfield, a Shillman Journalism Fello...  FAKE  \n",
            "1  Google Pinterest Digg Linkedin Reddit Stumbleu...  FAKE  \n",
            "2  U.S. Secretary of State John F. Kerry said Mon...  REAL  \n",
            "3  — Kaydee King (@KaydeeKing) November 9, 2016 T...  FAKE  \n",
            "4  It's primary day in New York and front-runners...  REAL  \n",
            "label\n",
            "REAL    3171\n",
            "FAKE    3164\n",
            "Name: count, dtype: int64\n",
            "Model Accuracy:91.55%\n",
            "Paste a news article or headline: Fearless is written by lauren roberts\n",
            "Result: Fake News\n"
          ]
        }
      ],
      "source": [
        "import pandas as pd\n",
        "from sklearn.model_selection import train_test_split\n",
        "from sklearn.feature_extraction.text import TfidfVectorizer\n",
        "from sklearn.linear_model import LogisticRegression\n",
        "from sklearn.metrics import accuracy_score\n",
        "url='https://raw.githubusercontent.com/lutzhamel/fake-news/refs/heads/master/data/fake_or_real_news.csv'\n",
        "df=pd.read_csv(url)# Reading from the url\n",
        "print(df.head())\n",
        "print(df['label'].value_counts())\n",
        "x=df['text']\n",
        "y=df['label']\n",
        "x_train,x_test,y_train,y_test=train_test_split(x,y,test_size=0.2,random_state=42 )\n",
        "vectorizer=TfidfVectorizer(stop_words='english',max_df=0.7)\n",
        "x_train_tfidf=vectorizer.fit_transform(x_train)\n",
        "x_test_tfidf=vectorizer.transform(x_test)\n",
        "model=LogisticRegression()\n",
        "model.fit(x_train_tfidf,y_train)\n",
        "y_pred=model.predict(x_test_tfidf)\n",
        "accuracy=accuracy_score(y_test,y_pred)\n",
        "print(f\"Model Accuracy:{accuracy*100:,.2f}%\")\n",
        "user_input=input('Paste a news article or headline: ')\n",
        "user_input_tfidf=vectorizer.transform([user_input])\n",
        "prediction=model.predict(user_input_tfidf)\n",
        "print(\"Result:\", \"real news\"if prediction[0]==\"Real\" else \"Fake News\")"
      ]
    }
  ]
}